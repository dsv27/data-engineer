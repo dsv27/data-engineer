{
 "cells": [
  {
   "cell_type": "code",
   "execution_count": 1,
   "metadata": {},
   "outputs": [
    {
     "data": {
      "text/plain": [
       "Intitializing Scala interpreter ..."
      ]
     },
     "metadata": {},
     "output_type": "display_data"
    },
    {
     "data": {
      "text/plain": [
       "Spark Web UI available at http://df4b139d5675:4041\n",
       "SparkContext available as 'sc' (version = 3.0.0, master = local[*], app id = local-1598277789235)\n",
       "SparkSession available as 'spark'\n"
      ]
     },
     "metadata": {},
     "output_type": "display_data"
    },
    {
     "name": "stdout",
     "output_type": "stream",
     "text": [
      "Current spark version is 3.0.0\n"
     ]
    }
   ],
   "source": [
    "println(s\"Current spark version is ${spark.version}\")"
   ]
  },
  {
   "cell_type": "code",
   "execution_count": 2,
   "metadata": {},
   "outputs": [
    {
     "name": "stdout",
     "output_type": "stream",
     "text": [
      "Total tweets in file: 1600000\n"
     ]
    },
    {
     "data": {
      "text/plain": [
       "import org.apache.spark.sql.types.{StructType, StructField, IntegerType, LongType, StringType}\n",
       "dataSchema: org.apache.spark.sql.types.StructType = StructType(StructField(target,IntegerType,true), StructField(id,LongType,true), StructField(raw_timestamp,StringType,true), StructField(query_status,StringType,true), StructField(author,StringType,true), StructField(tweet,StringType,true))\n",
       "dataPath: String = /home/jovyan/data/training.1600000.processed.noemoticon.csv\n",
       "raw_sentiment: org.apache.spark.sql.DataFrame = [tweet: string]\n"
      ]
     },
     "execution_count": 2,
     "metadata": {},
     "output_type": "execute_result"
    }
   ],
   "source": [
    "import org.apache.spark.sql.types.{StructType, StructField, IntegerType, LongType, StringType}\n",
    "\n",
    "val dataSchema = new StructType()\n",
    "    .add(\"target\", IntegerType)\n",
    "    .add(\"id\", LongType)\n",
    "    .add(\"raw_timestamp\", StringType)\n",
    "    .add(\"query_status\", StringType)\n",
    "    .add(\"author\", StringType)\n",
    "    .add(\"tweet\", StringType)\n",
    "\n",
    "    \n",
    "val dataPath= \"/home/jovyan/data/training.1600000.processed.noemoticon.csv\"\n",
    "\n",
    "val raw_sentiment = spark.read\n",
    "    .format(\"csv\")\n",
    "    .option(\"header\",false)\n",
    "    .schema(dataSchema)\n",
    "    .load(dataPath)\n",
    "    .selectExpr(\"tweet\")\n",
    "\n",
    "println(s\"Total tweets in file: ${raw_sentiment.count}\")\n"
   ]
  },
  {
   "cell_type": "code",
   "execution_count": 3,
   "metadata": {},
   "outputs": [
    {
     "name": "stdout",
     "output_type": "stream",
     "text": [
      "Streaming started!\n"
     ]
    },
    {
     "data": {
      "text/plain": [
       "import java.util.{Calendar, Timer, TimerTask}\n",
       "timer: java.util.Timer = java.util.Timer@351d99f2\n",
       "task: java.util.TimerTask = $anon$1@32a89e7f\n"
      ]
     },
     "execution_count": 3,
     "metadata": {},
     "output_type": "execute_result"
    },
    {
     "name": "stdout",
     "output_type": "stream",
     "text": [
      "2020-08-24T14:03:26.528Z - saved some data to the events stream!\n",
      "2020-08-24T14:03:30.125Z - saved some data to the events stream!\n",
      "2020-08-24T14:03:33.681Z - saved some data to the events stream!\n",
      "2020-08-24T14:03:37.250Z - saved some data to the events stream!\n",
      "2020-08-24T14:03:40.887Z - saved some data to the events stream!\n",
      "2020-08-24T14:03:44.398Z - saved some data to the events stream!\n",
      "2020-08-24T14:03:47.926Z - saved some data to the events stream!\n",
      "2020-08-24T14:03:51.459Z - saved some data to the events stream!\n",
      "2020-08-24T14:03:55.014Z - saved some data to the events stream!\n",
      "2020-08-24T14:03:58.594Z - saved some data to the events stream!\n",
      "2020-08-24T14:04:02.083Z - saved some data to the events stream!\n",
      "2020-08-24T14:04:05.600Z - saved some data to the events stream!\n",
      "2020-08-24T14:04:09.355Z - saved some data to the events stream!\n",
      "2020-08-24T14:04:13Z - saved some data to the events stream!\n",
      "2020-08-24T14:04:16.916Z - saved some data to the events stream!\n",
      "2020-08-24T14:04:20.726Z - saved some data to the events stream!\n",
      "2020-08-24T14:04:24.530Z - saved some data to the events stream!\n",
      "2020-08-24T14:04:28.298Z - saved some data to the events stream!\n",
      "2020-08-24T14:04:32.044Z - saved some data to the events stream!\n",
      "2020-08-24T14:04:35.758Z - saved some data to the events stream!\n",
      "2020-08-24T14:04:39.522Z - saved some data to the events stream!\n",
      "2020-08-24T14:04:43.231Z - saved some data to the events stream!\n",
      "2020-08-24T14:04:46.933Z - saved some data to the events stream!\n",
      "2020-08-24T14:04:50.656Z - saved some data to the events stream!\n",
      "2020-08-24T14:04:54.364Z - saved some data to the events stream!\n",
      "2020-08-24T14:04:58.057Z - saved some data to the events stream!\n",
      "2020-08-24T14:05:01.815Z - saved some data to the events stream!\n"
     ]
    }
   ],
   "source": [
    "import java.util.{Calendar, Timer, TimerTask}\n",
    "\n",
    "val timer = new Timer()\n",
    "\n",
    "val task = new TimerTask {\n",
    "  def run(): Unit = {\n",
    "      val data = raw_sentiment.sample(fraction=0.00001,withReplacement=true)\n",
    "      data.coalesce(1).write.format(\"json\").mode(\"append\").save(\"/home/jovyan/data/events-stream\")\n",
    "      println(s\"${Calendar.getInstance().toInstant} - saved some data to the events stream!\")\n",
    "  } \n",
    "}\n",
    "\n",
    "println(\"Streaming started!\")\n",
    "\n",
    "timer.schedule(task, 1000L, 1000L)"
   ]
  },
  {
   "cell_type": "code",
   "execution_count": 4,
   "metadata": {},
   "outputs": [
    {
     "data": {
      "text/plain": [
       "res3: Boolean = true\n"
      ]
     },
     "execution_count": 4,
     "metadata": {},
     "output_type": "execute_result"
    },
    {
     "name": "stdout",
     "output_type": "stream",
     "text": [
      "2020-08-24T12:16:34.046Z - saved some data to the events stream!\n"
     ]
    }
   ],
   "source": [
    "task.cancel()"
   ]
  },
  {
   "cell_type": "code",
   "execution_count": null,
   "metadata": {},
   "outputs": [],
   "source": []
  },
  {
   "cell_type": "code",
   "execution_count": null,
   "metadata": {},
   "outputs": [],
   "source": []
  }
 ],
 "metadata": {
  "kernelspec": {
   "display_name": "spylon-kernel",
   "language": "scala",
   "name": "spylon-kernel"
  },
  "language_info": {
   "codemirror_mode": "text/x-scala",
   "file_extension": ".scala",
   "help_links": [
    {
     "text": "MetaKernel Magics",
     "url": "https://metakernel.readthedocs.io/en/latest/source/README.html"
    }
   ],
   "mimetype": "text/x-scala",
   "name": "scala",
   "pygments_lexer": "scala",
   "version": "0.4.1"
  }
 },
 "nbformat": 4,
 "nbformat_minor": 4
}
